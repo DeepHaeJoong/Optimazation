{
 "cells": [
  {
   "cell_type": "markdown",
   "metadata": {},
   "source": [
    "### $P$ positive semi-definite\n",
    "\n",
    "$$\n",
    "\\begin{split}\\begin{array}{ll}\n",
    "\\mbox{minimize}   & x^TPx + q^Tx + r\\\\\n",
    "\\mbox{subject to} & Ax = c.\n",
    "\\end{array}\\end{split}\n",
    "$$"
   ]
  },
  {
   "cell_type": "code",
   "execution_count": 117,
   "metadata": {},
   "outputs": [
    {
     "name": "stdout",
     "output_type": "stream",
     "text": [
      "'P' has eigen values greater than or equal to zero.: \n",
      "[6.50281553 6.87411656 2.22623592 5.13003513 3.29905775 7.3802488\n",
      " 4.37403272 6.69175814 2.94471341 1.61470529]\n",
      "\n",
      "The optimal value is :  -0.01374406252042304\n",
      "--------------------------------------------------------------------------\n",
      "A solution x is : \n",
      "[ 4.41351509  0.25852873  4.08045054  3.38159877 -2.28073017 -2.17234455\n",
      " -5.00838629 -0.58295595  2.01914232 -2.60524737]\n",
      "--------------------------------------------------------------------------\n",
      "A dual solution corresponding to the inequality constraints is\n",
      "[ 1.49515024  2.18427263 -3.48211081  2.73329627  2.29992701]\n"
     ]
    }
   ],
   "source": [
    "# Import packages.\n",
    "import cvxpy as cp\n",
    "import numpy as np\n",
    "\n",
    "# Generate a random non-trivial quadratic program.\n",
    "m = 15\n",
    "n = 10\n",
    "p = 5\n",
    "np.random.seed(1)\n",
    "P = np.random.randn(5, 10)\n",
    "P = P.T @ P\n",
    "q = np.random.randn(n)\n",
    "r = 3\n",
    "A = np.random.randn(p, n)\n",
    "c = np.random.randn(p)\n",
    "\n",
    "# Define and solve the CVXPY problem.\n",
    "x = cp.Variable(n)\n",
    "prob = cp.Problem(cp.Minimize((1/2)*cp.quad_form(x, P) + q.T @ x + r),\n",
    "                 [A @ x == c])\n",
    "prob.solve()\n",
    "\n",
    "# Print result.\n",
    "\n",
    "print(\"'P' has eigen values greater than or equal to zero.: \\n{}\\n\".format(P.diagonal()))\n",
    "print(\"The optimal value is : \", prob.value)\n",
    "\n",
    "print(\"--------------------------------------------------------------------------\")\n",
    "print(\"A solution x is : \")\n",
    "print(x.value)\n",
    "print(\"--------------------------------------------------------------------------\")\n",
    "print(\"A dual solution corresponding to the inequality constraints is\")\n",
    "print(prob.constraints[0].dual_value)"
   ]
  },
  {
   "cell_type": "markdown",
   "metadata": {},
   "source": [
    "### $P$ positive semi-definite 가 아닌 경우\n",
    "\n",
    "$$\n",
    "\\begin{split}\\begin{array}{ll}\n",
    "\\mbox{minimize}   & x^TPx + q^Tx + r\\\\\n",
    "\\mbox{subject to} & Ax = c.\n",
    "\\end{array}\\end{split}\n",
    "$$"
   ]
  },
  {
   "cell_type": "code",
   "execution_count": 120,
   "metadata": {},
   "outputs": [
    {
     "name": "stdout",
     "output_type": "stream",
     "text": [
      "'P' has eigen values greater than or equal to zero.: \n",
      "[ 1.62434536 -2.06014071  0.90159072 -0.84520564  0.05080775  0.58662319\n",
      "  1.13162939  0.82797464  0.12182127  0.69803203]\n",
      "\n",
      "The optimal value is :  None\n"
     ]
    },
    {
     "ename": "DCPError",
     "evalue": "Problem does not follow DCP rules. Specifically:\nThe objective is not DCP. Its following subexpressions are not:\nQuadForm(var1846, [[ 1.62434536 -0.61175641 -0.52817175 -1.07296862  0.86540763 -2.3015387\n   1.74481176 -0.7612069   0.3190391  -0.24937038]\n [ 1.46210794 -2.06014071 -0.3224172  -0.38405435  1.13376944 -1.09989127\n  -0.17242821 -0.87785842  0.04221375  0.58281521]\n [-1.10061918  1.14472371  0.90159072  0.50249434  0.90085595 -0.68372786\n  -0.12289023 -0.93576943 -0.26788808  0.53035547]\n [-0.69166075 -0.39675353 -0.6871727  -0.84520564 -0.67124613 -0.0126646\n  -1.11731035  0.2344157   1.65980218  0.74204416]\n [-0.19183555 -0.88762896 -0.74715829  1.6924546   0.05080775 -0.63699565\n   0.19091548  2.10025514  0.12015895  0.61720311]\n [ 0.30017032 -0.35224985 -1.1425182  -0.34934272 -0.20889423  0.58662319\n   0.83898341  0.93110208  0.28558733  0.88514116]\n [-0.75439794  1.25286816  0.51292982 -0.29809284  0.48851815 -0.07557171\n   1.13162939  1.51981682  2.18557541 -1.39649634]\n [-1.44411381 -0.50446586  0.16003707  0.87616892  0.31563495 -2.02220122\n  -0.30620401  0.82797464  0.23009474  0.76201118]\n [-0.22232814 -0.20075807  0.18656139  0.41005165  0.19829972  0.11900865\n  -0.67066229  0.37756379  0.12182127  1.12948391]\n [ 1.19891788  0.18515642 -0.37528495 -0.63873041  0.42349435  0.07734007\n  -0.34385368  0.04359686 -0.62000084  0.69803203]])",
     "output_type": "error",
     "traceback": [
      "\u001b[1;31m---------------------------------------------------------------------------\u001b[0m",
      "\u001b[1;31mDCPError\u001b[0m                                  Traceback (most recent call last)",
      "\u001b[1;32m<ipython-input-120-c779efee6970>\u001b[0m in \u001b[0;36m<module>\u001b[1;34m\u001b[0m\n\u001b[0;32m     20\u001b[0m prob = cp.Problem(cp.Minimize((1/2)*cp.quad_form(x, P) + q.T @ x + r),\n\u001b[0;32m     21\u001b[0m                  [A @ x == c])\n\u001b[1;32m---> 22\u001b[1;33m \u001b[0mprob\u001b[0m\u001b[1;33m.\u001b[0m\u001b[0msolve\u001b[0m\u001b[1;33m(\u001b[0m\u001b[1;33m)\u001b[0m\u001b[1;33m\u001b[0m\u001b[1;33m\u001b[0m\u001b[0m\n\u001b[0m\u001b[0;32m     23\u001b[0m \u001b[1;33m\u001b[0m\u001b[0m\n\u001b[0;32m     24\u001b[0m \u001b[1;31m# Print result.\u001b[0m\u001b[1;33m\u001b[0m\u001b[1;33m\u001b[0m\u001b[1;33m\u001b[0m\u001b[0m\n",
      "\u001b[1;32m~\\study\\lib\\site-packages\\cvxpy\\problems\\problem.py\u001b[0m in \u001b[0;36msolve\u001b[1;34m(self, *args, **kwargs)\u001b[0m\n\u001b[0;32m    288\u001b[0m         \u001b[1;32melse\u001b[0m\u001b[1;33m:\u001b[0m\u001b[1;33m\u001b[0m\u001b[1;33m\u001b[0m\u001b[0m\n\u001b[0;32m    289\u001b[0m             \u001b[0msolve_func\u001b[0m \u001b[1;33m=\u001b[0m \u001b[0mProblem\u001b[0m\u001b[1;33m.\u001b[0m\u001b[0m_solve\u001b[0m\u001b[1;33m\u001b[0m\u001b[1;33m\u001b[0m\u001b[0m\n\u001b[1;32m--> 290\u001b[1;33m         \u001b[1;32mreturn\u001b[0m \u001b[0msolve_func\u001b[0m\u001b[1;33m(\u001b[0m\u001b[0mself\u001b[0m\u001b[1;33m,\u001b[0m \u001b[1;33m*\u001b[0m\u001b[0margs\u001b[0m\u001b[1;33m,\u001b[0m \u001b[1;33m**\u001b[0m\u001b[0mkwargs\u001b[0m\u001b[1;33m)\u001b[0m\u001b[1;33m\u001b[0m\u001b[1;33m\u001b[0m\u001b[0m\n\u001b[0m\u001b[0;32m    291\u001b[0m \u001b[1;33m\u001b[0m\u001b[0m\n\u001b[0;32m    292\u001b[0m     \u001b[1;33m@\u001b[0m\u001b[0mclassmethod\u001b[0m\u001b[1;33m\u001b[0m\u001b[1;33m\u001b[0m\u001b[0m\n",
      "\u001b[1;32m~\\study\\lib\\site-packages\\cvxpy\\problems\\problem.py\u001b[0m in \u001b[0;36m_solve\u001b[1;34m(self, solver, warm_start, verbose, parallel, gp, qcp, **kwargs)\u001b[0m\n\u001b[0;32m    566\u001b[0m                     solver, warm_start, verbose, **kwargs)\n\u001b[0;32m    567\u001b[0m \u001b[1;33m\u001b[0m\u001b[0m\n\u001b[1;32m--> 568\u001b[1;33m         \u001b[0mself\u001b[0m\u001b[1;33m.\u001b[0m\u001b[0m_construct_chains\u001b[0m\u001b[1;33m(\u001b[0m\u001b[0msolver\u001b[0m\u001b[1;33m=\u001b[0m\u001b[0msolver\u001b[0m\u001b[1;33m,\u001b[0m \u001b[0mgp\u001b[0m\u001b[1;33m=\u001b[0m\u001b[0mgp\u001b[0m\u001b[1;33m)\u001b[0m\u001b[1;33m\u001b[0m\u001b[1;33m\u001b[0m\u001b[0m\n\u001b[0m\u001b[0;32m    569\u001b[0m         data, solving_inverse_data = self._solving_chain.apply(\n\u001b[0;32m    570\u001b[0m             self._intermediate_problem)\n",
      "\u001b[1;32m~\\study\\lib\\site-packages\\cvxpy\\problems\\problem.py\u001b[0m in \u001b[0;36m_construct_chains\u001b[1;34m(self, solver, gp)\u001b[0m\n\u001b[0;32m    509\u001b[0m \u001b[1;33m\u001b[0m\u001b[0m\n\u001b[0;32m    510\u001b[0m             \u001b[1;32mexcept\u001b[0m \u001b[0mException\u001b[0m \u001b[1;32mas\u001b[0m \u001b[0me\u001b[0m\u001b[1;33m:\u001b[0m\u001b[1;33m\u001b[0m\u001b[1;33m\u001b[0m\u001b[0m\n\u001b[1;32m--> 511\u001b[1;33m                 \u001b[1;32mraise\u001b[0m \u001b[0me\u001b[0m\u001b[1;33m\u001b[0m\u001b[1;33m\u001b[0m\u001b[0m\n\u001b[0m\u001b[0;32m    512\u001b[0m \u001b[1;33m\u001b[0m\u001b[0m\n\u001b[0;32m    513\u001b[0m     def _solve(self,\n",
      "\u001b[1;32m~\\study\\lib\\site-packages\\cvxpy\\problems\\problem.py\u001b[0m in \u001b[0;36m_construct_chains\u001b[1;34m(self, solver, gp)\u001b[0m\n\u001b[0;32m    498\u001b[0m \u001b[1;33m\u001b[0m\u001b[0m\n\u001b[0;32m    499\u001b[0m                 \u001b[0mself\u001b[0m\u001b[1;33m.\u001b[0m\u001b[0m_intermediate_chain\u001b[0m \u001b[1;33m=\u001b[0m\u001b[0;31m \u001b[0m\u001b[0;31m\\\u001b[0m\u001b[1;33m\u001b[0m\u001b[1;33m\u001b[0m\u001b[0m\n\u001b[1;32m--> 500\u001b[1;33m                     \u001b[0mconstruct_intermediate_chain\u001b[0m\u001b[1;33m(\u001b[0m\u001b[0mself\u001b[0m\u001b[1;33m,\u001b[0m \u001b[0mcandidate_solvers\u001b[0m\u001b[1;33m,\u001b[0m \u001b[0mgp\u001b[0m\u001b[1;33m=\u001b[0m\u001b[0mgp\u001b[0m\u001b[1;33m)\u001b[0m\u001b[1;33m\u001b[0m\u001b[1;33m\u001b[0m\u001b[0m\n\u001b[0m\u001b[0;32m    501\u001b[0m                 \u001b[0mself\u001b[0m\u001b[1;33m.\u001b[0m\u001b[0m_intermediate_problem\u001b[0m\u001b[1;33m,\u001b[0m \u001b[0mself\u001b[0m\u001b[1;33m.\u001b[0m\u001b[0m_intermediate_inverse_data\u001b[0m \u001b[1;33m=\u001b[0m\u001b[0;31m \u001b[0m\u001b[0;31m\\\u001b[0m\u001b[1;33m\u001b[0m\u001b[1;33m\u001b[0m\u001b[0m\n\u001b[0;32m    502\u001b[0m                     \u001b[0mself\u001b[0m\u001b[1;33m.\u001b[0m\u001b[0m_intermediate_chain\u001b[0m\u001b[1;33m.\u001b[0m\u001b[0mapply\u001b[0m\u001b[1;33m(\u001b[0m\u001b[0mself\u001b[0m\u001b[1;33m)\u001b[0m\u001b[1;33m\u001b[0m\u001b[1;33m\u001b[0m\u001b[0m\n",
      "\u001b[1;32m~\\study\\lib\\site-packages\\cvxpy\\reductions\\solvers\\intermediate_chain.py\u001b[0m in \u001b[0;36mconstruct_intermediate_chain\u001b[1;34m(problem, candidates, gp)\u001b[0m\n\u001b[0;32m     94\u001b[0m             append += (\"\\nHowever, the problem does follow DQCP rules. \"\n\u001b[0;32m     95\u001b[0m                        \"Consider calling solve() with `qcp=True`.\")\n\u001b[1;32m---> 96\u001b[1;33m         \u001b[1;32mraise\u001b[0m \u001b[0mDCPError\u001b[0m\u001b[1;33m(\u001b[0m\u001b[1;34m\"Problem does not follow DCP rules. Specifically:\\n\"\u001b[0m \u001b[1;33m+\u001b[0m \u001b[0mappend\u001b[0m\u001b[1;33m)\u001b[0m\u001b[1;33m\u001b[0m\u001b[1;33m\u001b[0m\u001b[0m\n\u001b[0m\u001b[0;32m     97\u001b[0m \u001b[1;33m\u001b[0m\u001b[0m\n\u001b[0;32m     98\u001b[0m     \u001b[1;32melif\u001b[0m \u001b[0mgp\u001b[0m \u001b[1;32mand\u001b[0m \u001b[1;32mnot\u001b[0m \u001b[0mproblem\u001b[0m\u001b[1;33m.\u001b[0m\u001b[0mis_dgp\u001b[0m\u001b[1;33m(\u001b[0m\u001b[1;33m)\u001b[0m\u001b[1;33m:\u001b[0m\u001b[1;33m\u001b[0m\u001b[1;33m\u001b[0m\u001b[0m\n",
      "\u001b[1;31mDCPError\u001b[0m: Problem does not follow DCP rules. Specifically:\nThe objective is not DCP. Its following subexpressions are not:\nQuadForm(var1846, [[ 1.62434536 -0.61175641 -0.52817175 -1.07296862  0.86540763 -2.3015387\n   1.74481176 -0.7612069   0.3190391  -0.24937038]\n [ 1.46210794 -2.06014071 -0.3224172  -0.38405435  1.13376944 -1.09989127\n  -0.17242821 -0.87785842  0.04221375  0.58281521]\n [-1.10061918  1.14472371  0.90159072  0.50249434  0.90085595 -0.68372786\n  -0.12289023 -0.93576943 -0.26788808  0.53035547]\n [-0.69166075 -0.39675353 -0.6871727  -0.84520564 -0.67124613 -0.0126646\n  -1.11731035  0.2344157   1.65980218  0.74204416]\n [-0.19183555 -0.88762896 -0.74715829  1.6924546   0.05080775 -0.63699565\n   0.19091548  2.10025514  0.12015895  0.61720311]\n [ 0.30017032 -0.35224985 -1.1425182  -0.34934272 -0.20889423  0.58662319\n   0.83898341  0.93110208  0.28558733  0.88514116]\n [-0.75439794  1.25286816  0.51292982 -0.29809284  0.48851815 -0.07557171\n   1.13162939  1.51981682  2.18557541 -1.39649634]\n [-1.44411381 -0.50446586  0.16003707  0.87616892  0.31563495 -2.02220122\n  -0.30620401  0.82797464  0.23009474  0.76201118]\n [-0.22232814 -0.20075807  0.18656139  0.41005165  0.19829972  0.11900865\n  -0.67066229  0.37756379  0.12182127  1.12948391]\n [ 1.19891788  0.18515642 -0.37528495 -0.63873041  0.42349435  0.07734007\n  -0.34385368  0.04359686 -0.62000084  0.69803203]])"
     ]
    }
   ],
   "source": [
    "# Import packages.\n",
    "import cvxpy as cp\n",
    "import numpy as np\n",
    "\n",
    "# Generate a random non-trivial quadratic program.\n",
    "m = 15\n",
    "n = 10\n",
    "p = 5\n",
    "np.random.seed(1)\n",
    "P = np.random.randn(10, 10)\n",
    "print(\"'P' has eigen values greater than or equal to zero.: \\n{}\\n\".format(P.diagonal()))\n",
    "print(\"The optimal value is : \", prob.value)\n",
    "q = np.random.randn(n)\n",
    "r = 3\n",
    "A = np.random.randn(p, n)\n",
    "c = np.random.randn(p)\n",
    "\n",
    "# Define and solve the CVXPY problem.\n",
    "x = cp.Variable(n)\n",
    "prob = cp.Problem(cp.Minimize((1/2)*cp.quad_form(x, P) + q.T @ x + r),\n",
    "                 [A @ x == c])\n",
    "prob.solve()\n",
    "\n",
    "# Print result.\n",
    "\n",
    "print(\"'P' has eigen values greater than or equal to zero.: \\n{}\\n\".format(P.diagonal()))\n",
    "print(\"The optimal value is : \", prob.value)\n",
    "\n",
    "print(\"--------------------------------------------------------------------------\")\n",
    "print(\"A solution x is : \")\n",
    "print(x.value)\n",
    "print(\"--------------------------------------------------------------------------\")\n",
    "print(\"A dual solution corresponding to the inequality constraints is\")\n",
    "print(prob.constraints[0].dual_value)"
   ]
  }
 ],
 "metadata": {
  "kernelspec": {
   "display_name": "Python 3",
   "language": "python",
   "name": "python3"
  },
  "language_info": {
   "codemirror_mode": {
    "name": "ipython",
    "version": 3
   },
   "file_extension": ".py",
   "mimetype": "text/x-python",
   "name": "python",
   "nbconvert_exporter": "python",
   "pygments_lexer": "ipython3",
   "version": "3.7.4"
  }
 },
 "nbformat": 4,
 "nbformat_minor": 2
}
