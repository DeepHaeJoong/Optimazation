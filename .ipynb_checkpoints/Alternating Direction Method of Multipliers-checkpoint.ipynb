{
 "cells": [
  {
   "cell_type": "code",
   "execution_count": 125,
   "metadata": {},
   "outputs": [
    {
     "name": "stdout",
     "output_type": "stream",
     "text": [
      "---------------------------------------------------------------\n",
      "shape of A : (10, 20)\n",
      "shape of B : (10, 20)\n",
      "shape of c : (10,)\n",
      "---------------------------------------------------------------\n",
      "Optimal 'f' value from CVXPY: 0.4711122611481883\n",
      "Optimal 'g' value from CVXPY: 1.3864482853598028\n",
      "---------------------------------------------------------------\n",
      "Optimal 'f' value from Alternating Direction Method of Multipliers: 0.47105457627652697\n",
      "Optimal 'g' value from Alternating Direction Method of Multipliers: 1.3865326812970653\n"
     ]
    }
   ],
   "source": [
    "import cvxpy as cp\n",
    "import numpy as np\n",
    "np.random.seed(1)\n",
    "\n",
    "# Initialize data.\n",
    "MAX_ITERS = 20\n",
    "rho = 0.99\n",
    "n = 20\n",
    "m = 10\n",
    "A = np.random.randn(m, n)\n",
    "B = np.random.randn(m, n)\n",
    "c = np.random.randn(m)\n",
    "print(\"---------------------------------------------------------------\")\n",
    "print(\"shape of A : {}\".format(A.shape))\n",
    "print(\"shape of B : {}\".format(B.shape))\n",
    "print(\"shape of c : {}\".format(b.shape))\n",
    "print(\"---------------------------------------------------------------\")\n",
    "# Initialize problem.\n",
    "x = cp.Variable(shape=n)\n",
    "z = cp.Variable(shape=n)\n",
    "f = cp.norm(x, 1)\n",
    "g = cp.norm(z, 1)\n",
    "\n",
    "# Solve with CVXPY.\n",
    "cp.Problem(cp.Minimize(f+g), [A*x + B*z == c]).solve()\n",
    "print(\"Optimal 'f' value from CVXPY: {}\".format(f.value))\n",
    "print(\"Optimal 'g' value from CVXPY: {}\".format(g.value))\n",
    "print(\"---------------------------------------------------------------\")\n",
    "\n",
    "# Solve with alternating direction method of multipliers.\n",
    "resid = A*x + B*z - c\n",
    "\n",
    "y = cp.Parameter(shape=(m))\n",
    "y.value = np.zeros(m)\n",
    "\n",
    "aug_lagr = f + g + y.T*resid + (rho/2)*cp.sum_squares(resid)\n",
    "for t in range(MAX_ITERS):\n",
    "    cp.Problem(cp.Minimize(aug_lagr)).solve()   # x-minimiazation and z-minimiazation \n",
    "    y.value += rho*resid.value                  # dual update\n",
    "\n",
    "print(\"Optimal 'f' value from Alternating Direction Method of Multipliers: {}\".format(f.value))\n",
    "print(\"Optimal 'g' value from Alternating Direction Method of Multipliers: {}\".format(g.value))"
   ]
  }
 ],
 "metadata": {
  "kernelspec": {
   "display_name": "Python 3",
   "language": "python",
   "name": "python3"
  },
  "language_info": {
   "codemirror_mode": {
    "name": "ipython",
    "version": 3
   },
   "file_extension": ".py",
   "mimetype": "text/x-python",
   "name": "python",
   "nbconvert_exporter": "python",
   "pygments_lexer": "ipython3",
   "version": "3.7.4"
  }
 },
 "nbformat": 4,
 "nbformat_minor": 2
}
